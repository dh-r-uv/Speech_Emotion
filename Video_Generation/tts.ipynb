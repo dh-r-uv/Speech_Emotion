{
  "nbformat": 4,
  "nbformat_minor": 0,
  "metadata": {
    "colab": {
      "provenance": [],
      "authorship_tag": "ABX9TyNMknwiGn5Ys4yOtots434N",
      "include_colab_link": true
    },
    "kernelspec": {
      "name": "python3",
      "display_name": "Python 3"
    },
    "language_info": {
      "name": "python"
    }
  },
  "cells": [
    {
      "cell_type": "markdown",
      "metadata": {
        "id": "view-in-github",
        "colab_type": "text"
      },
      "source": [
        "<a href=\"https://colab.research.google.com/github/AyushCodez/SpeechEmotion/blob/main/Video_Generation/tts.ipynb\" target=\"_parent\"><img src=\"https://colab.research.google.com/assets/colab-badge.svg\" alt=\"Open In Colab\"/></a>"
      ]
    },
    {
      "cell_type": "code",
      "source": [
        "!pip install git+https://github.com/huggingface/parler-tts.git --use-deprecated=legacy-resolver"
      ],
      "metadata": {
        "id": "WBMgGwICscRQ",
        "colab": {
          "base_uri": "https://localhost:8080/"
        },
        "outputId": "80b9b4a4-f32d-4586-a95d-6f681a7ad9eb"
      },
      "execution_count": 6,
      "outputs": [
        {
          "output_type": "stream",
          "name": "stdout",
          "text": [
            "Collecting git+https://github.com/huggingface/parler-tts.git\n",
            "  Cloning https://github.com/huggingface/parler-tts.git to /tmp/pip-req-build-2db7zvix\n",
            "  Running command git clone --filter=blob:none --quiet https://github.com/huggingface/parler-tts.git /tmp/pip-req-build-2db7zvix\n",
            "  Resolved https://github.com/huggingface/parler-tts.git to commit 6185106e177f77a56eaf73aab3bf3c1b025f0d30\n",
            "  Installing build dependencies ... \u001b[?25l\u001b[?25hdone\n",
            "  Getting requirements to build wheel ... \u001b[?25l\u001b[?25hdone\n",
            "  Preparing metadata (pyproject.toml) ... \u001b[?25l\u001b[?25hdone\n",
            "Requirement already satisfied (use --upgrade to upgrade): parler_tts==0.2 from git+https://github.com/huggingface/parler-tts.git in /usr/local/lib/python3.10/dist-packages\n",
            "Requirement already satisfied: transformers<=4.43.3,>=4.43.0 in /usr/local/lib/python3.10/dist-packages (from parler_tts==0.2) (4.43.3)\n",
            "Requirement already satisfied: torch in /usr/local/lib/python3.10/dist-packages (from parler_tts==0.2) (2.3.1+cu121)\n",
            "Requirement already satisfied: sentencepiece in /usr/local/lib/python3.10/dist-packages (from parler_tts==0.2) (0.1.99)\n",
            "Requirement already satisfied: descript-audio-codec in /usr/local/lib/python3.10/dist-packages (from parler_tts==0.2) (1.0.0)\n",
            "Requirement already satisfied: filelock in /usr/local/lib/python3.10/dist-packages (from transformers<=4.43.3,>=4.43.0->parler_tts==0.2) (3.15.4)\n",
            "Requirement already satisfied: huggingface-hub<1.0,>=0.23.2 in /usr/local/lib/python3.10/dist-packages (from transformers<=4.43.3,>=4.43.0->parler_tts==0.2) (0.23.5)\n",
            "Requirement already satisfied: numpy>=1.17 in /usr/local/lib/python3.10/dist-packages (from transformers<=4.43.3,>=4.43.0->parler_tts==0.2) (1.26.4)\n",
            "Requirement already satisfied: packaging>=20.0 in /usr/local/lib/python3.10/dist-packages (from transformers<=4.43.3,>=4.43.0->parler_tts==0.2) (24.1)\n",
            "Requirement already satisfied: pyyaml>=5.1 in /usr/local/lib/python3.10/dist-packages (from transformers<=4.43.3,>=4.43.0->parler_tts==0.2) (6.0.1)\n",
            "Requirement already satisfied: regex!=2019.12.17 in /usr/local/lib/python3.10/dist-packages (from transformers<=4.43.3,>=4.43.0->parler_tts==0.2) (2024.5.15)\n",
            "Requirement already satisfied: requests in /usr/local/lib/python3.10/dist-packages (from transformers<=4.43.3,>=4.43.0->parler_tts==0.2) (2.32.3)\n",
            "Requirement already satisfied: safetensors>=0.4.1 in /usr/local/lib/python3.10/dist-packages (from transformers<=4.43.3,>=4.43.0->parler_tts==0.2) (0.4.4)\n",
            "Requirement already satisfied: tokenizers<0.20,>=0.19 in /usr/local/lib/python3.10/dist-packages (from transformers<=4.43.3,>=4.43.0->parler_tts==0.2) (0.19.1)\n",
            "Requirement already satisfied: tqdm>=4.27 in /usr/local/lib/python3.10/dist-packages (from transformers<=4.43.3,>=4.43.0->parler_tts==0.2) (4.66.5)\n",
            "Requirement already satisfied: typing-extensions>=4.8.0 in /usr/local/lib/python3.10/dist-packages (from torch->parler_tts==0.2) (4.12.2)\n",
            "Requirement already satisfied: sympy in /usr/local/lib/python3.10/dist-packages (from torch->parler_tts==0.2) (1.13.1)\n",
            "Requirement already satisfied: networkx in /usr/local/lib/python3.10/dist-packages (from torch->parler_tts==0.2) (3.3)\n",
            "Requirement already satisfied: jinja2 in /usr/local/lib/python3.10/dist-packages (from torch->parler_tts==0.2) (3.1.4)\n",
            "Requirement already satisfied: fsspec in /usr/local/lib/python3.10/dist-packages (from torch->parler_tts==0.2) (2024.6.1)\n",
            "Requirement already satisfied: nvidia-cuda-nvrtc-cu12==12.1.105; platform_system == \"Linux\" and platform_machine == \"x86_64\" in /usr/local/lib/python3.10/dist-packages (from torch->parler_tts==0.2) (12.1.105)\n",
            "Requirement already satisfied: nvidia-cuda-runtime-cu12==12.1.105; platform_system == \"Linux\" and platform_machine == \"x86_64\" in /usr/local/lib/python3.10/dist-packages (from torch->parler_tts==0.2) (12.1.105)\n",
            "Requirement already satisfied: nvidia-cuda-cupti-cu12==12.1.105; platform_system == \"Linux\" and platform_machine == \"x86_64\" in /usr/local/lib/python3.10/dist-packages (from torch->parler_tts==0.2) (12.1.105)\n",
            "Requirement already satisfied: nvidia-cudnn-cu12==8.9.2.26; platform_system == \"Linux\" and platform_machine == \"x86_64\" in /usr/local/lib/python3.10/dist-packages (from torch->parler_tts==0.2) (8.9.2.26)\n",
            "Requirement already satisfied: nvidia-cublas-cu12==12.1.3.1; platform_system == \"Linux\" and platform_machine == \"x86_64\" in /usr/local/lib/python3.10/dist-packages (from torch->parler_tts==0.2) (12.1.3.1)\n",
            "Requirement already satisfied: nvidia-cufft-cu12==11.0.2.54; platform_system == \"Linux\" and platform_machine == \"x86_64\" in /usr/local/lib/python3.10/dist-packages (from torch->parler_tts==0.2) (11.0.2.54)\n",
            "Requirement already satisfied: nvidia-curand-cu12==10.3.2.106; platform_system == \"Linux\" and platform_machine == \"x86_64\" in /usr/local/lib/python3.10/dist-packages (from torch->parler_tts==0.2) (10.3.2.106)\n",
            "Requirement already satisfied: nvidia-cusolver-cu12==11.4.5.107; platform_system == \"Linux\" and platform_machine == \"x86_64\" in /usr/local/lib/python3.10/dist-packages (from torch->parler_tts==0.2) (11.4.5.107)\n",
            "Requirement already satisfied: nvidia-cusparse-cu12==12.1.0.106; platform_system == \"Linux\" and platform_machine == \"x86_64\" in /usr/local/lib/python3.10/dist-packages (from torch->parler_tts==0.2) (12.1.0.106)\n",
            "Requirement already satisfied: nvidia-nccl-cu12==2.20.5; platform_system == \"Linux\" and platform_machine == \"x86_64\" in /usr/local/lib/python3.10/dist-packages (from torch->parler_tts==0.2) (2.20.5)\n",
            "Requirement already satisfied: nvidia-nvtx-cu12==12.1.105; platform_system == \"Linux\" and platform_machine == \"x86_64\" in /usr/local/lib/python3.10/dist-packages (from torch->parler_tts==0.2) (12.1.105)\n",
            "Requirement already satisfied: triton==2.3.1; platform_system == \"Linux\" and platform_machine == \"x86_64\" and python_version < \"3.12\" in /usr/local/lib/python3.10/dist-packages (from torch->parler_tts==0.2) (2.3.1)\n",
            "Requirement already satisfied: argbind>=0.3.7 in /usr/local/lib/python3.10/dist-packages (from descript-audio-codec->parler_tts==0.2) (0.3.9)\n",
            "Requirement already satisfied: descript-audiotools>=0.7.2 in /usr/local/lib/python3.10/dist-packages (from descript-audio-codec->parler_tts==0.2) (0.7.2)\n",
            "Requirement already satisfied: einops in /usr/local/lib/python3.10/dist-packages (from descript-audio-codec->parler_tts==0.2) (0.8.0)\n",
            "Requirement already satisfied: torchaudio in /usr/local/lib/python3.10/dist-packages (from descript-audio-codec->parler_tts==0.2) (2.3.1+cu121)\n",
            "Requirement already satisfied: charset-normalizer<4,>=2 in /usr/local/lib/python3.10/dist-packages (from requests->transformers<=4.43.3,>=4.43.0->parler_tts==0.2) (3.3.2)\n",
            "Requirement already satisfied: idna<4,>=2.5 in /usr/local/lib/python3.10/dist-packages (from requests->transformers<=4.43.3,>=4.43.0->parler_tts==0.2) (3.7)\n",
            "Requirement already satisfied: urllib3<3,>=1.21.1 in /usr/local/lib/python3.10/dist-packages (from requests->transformers<=4.43.3,>=4.43.0->parler_tts==0.2) (2.0.7)\n",
            "Requirement already satisfied: certifi>=2017.4.17 in /usr/local/lib/python3.10/dist-packages (from requests->transformers<=4.43.3,>=4.43.0->parler_tts==0.2) (2024.7.4)\n",
            "Requirement already satisfied: mpmath<1.4,>=1.1.0 in /usr/local/lib/python3.10/dist-packages (from sympy->torch->parler_tts==0.2) (1.3.0)\n",
            "Requirement already satisfied: MarkupSafe>=2.0 in /usr/local/lib/python3.10/dist-packages (from jinja2->torch->parler_tts==0.2) (2.1.5)\n",
            "Requirement already satisfied: nvidia-nvjitlink-cu12 in /usr/local/lib/python3.10/dist-packages (from nvidia-cusolver-cu12==11.4.5.107; platform_system == \"Linux\" and platform_machine == \"x86_64\"->torch->parler_tts==0.2) (12.6.20)\n",
            "Requirement already satisfied: docstring-parser in /usr/local/lib/python3.10/dist-packages (from argbind>=0.3.7->descript-audio-codec->parler_tts==0.2) (0.16)\n",
            "Requirement already satisfied: soundfile in /usr/local/lib/python3.10/dist-packages (from descript-audiotools>=0.7.2->descript-audio-codec->parler_tts==0.2) (0.12.1)\n",
            "Requirement already satisfied: pyloudnorm in /usr/local/lib/python3.10/dist-packages (from descript-audiotools>=0.7.2->descript-audio-codec->parler_tts==0.2) (0.1.1)\n",
            "Requirement already satisfied: importlib-resources in /usr/local/lib/python3.10/dist-packages (from descript-audiotools>=0.7.2->descript-audio-codec->parler_tts==0.2) (6.4.0)\n",
            "Requirement already satisfied: scipy in /usr/local/lib/python3.10/dist-packages (from descript-audiotools>=0.7.2->descript-audio-codec->parler_tts==0.2) (1.13.1)\n",
            "Requirement already satisfied: julius in /usr/local/lib/python3.10/dist-packages (from descript-audiotools>=0.7.2->descript-audio-codec->parler_tts==0.2) (0.2.7)\n",
            "Requirement already satisfied: ffmpy in /usr/local/lib/python3.10/dist-packages (from descript-audiotools>=0.7.2->descript-audio-codec->parler_tts==0.2) (0.4.0)\n",
            "Requirement already satisfied: ipython in /usr/local/lib/python3.10/dist-packages (from descript-audiotools>=0.7.2->descript-audio-codec->parler_tts==0.2) (7.34.0)\n",
            "Requirement already satisfied: rich in /usr/local/lib/python3.10/dist-packages (from descript-audiotools>=0.7.2->descript-audio-codec->parler_tts==0.2) (13.7.1)\n",
            "Requirement already satisfied: matplotlib in /usr/local/lib/python3.10/dist-packages (from descript-audiotools>=0.7.2->descript-audio-codec->parler_tts==0.2) (3.7.1)\n",
            "Requirement already satisfied: librosa in /usr/local/lib/python3.10/dist-packages (from descript-audiotools>=0.7.2->descript-audio-codec->parler_tts==0.2) (0.10.2.post1)\n",
            "Requirement already satisfied: pystoi in /usr/local/lib/python3.10/dist-packages (from descript-audiotools>=0.7.2->descript-audio-codec->parler_tts==0.2) (0.4.1)\n",
            "Requirement already satisfied: torch-stoi in /usr/local/lib/python3.10/dist-packages (from descript-audiotools>=0.7.2->descript-audio-codec->parler_tts==0.2) (0.2.1)\n",
            "Requirement already satisfied: flatten-dict in /usr/local/lib/python3.10/dist-packages (from descript-audiotools>=0.7.2->descript-audio-codec->parler_tts==0.2) (0.4.2)\n",
            "Requirement already satisfied: markdown2 in /usr/local/lib/python3.10/dist-packages (from descript-audiotools>=0.7.2->descript-audio-codec->parler_tts==0.2) (2.5.0)\n",
            "Requirement already satisfied: randomname in /usr/local/lib/python3.10/dist-packages (from descript-audiotools>=0.7.2->descript-audio-codec->parler_tts==0.2) (0.2.1)\n",
            "Requirement already satisfied: protobuf<3.20,>=3.9.2 in /usr/local/lib/python3.10/dist-packages (from descript-audiotools>=0.7.2->descript-audio-codec->parler_tts==0.2) (3.19.6)\n",
            "Requirement already satisfied: tensorboard in /usr/local/lib/python3.10/dist-packages (from descript-audiotools>=0.7.2->descript-audio-codec->parler_tts==0.2) (2.17.0)\n",
            "Requirement already satisfied: cffi>=1.0 in /usr/local/lib/python3.10/dist-packages (from soundfile->descript-audiotools>=0.7.2->descript-audio-codec->parler_tts==0.2) (1.16.0)\n",
            "Requirement already satisfied: future>=0.16.0 in /usr/local/lib/python3.10/dist-packages (from pyloudnorm->descript-audiotools>=0.7.2->descript-audio-codec->parler_tts==0.2) (1.0.0)\n",
            "Requirement already satisfied: setuptools>=18.5 in /usr/local/lib/python3.10/dist-packages (from ipython->descript-audiotools>=0.7.2->descript-audio-codec->parler_tts==0.2) (71.0.4)\n",
            "Requirement already satisfied: jedi>=0.16 in /usr/local/lib/python3.10/dist-packages (from ipython->descript-audiotools>=0.7.2->descript-audio-codec->parler_tts==0.2) (0.19.1)\n",
            "Requirement already satisfied: decorator in /usr/local/lib/python3.10/dist-packages (from ipython->descript-audiotools>=0.7.2->descript-audio-codec->parler_tts==0.2) (4.4.2)\n",
            "Requirement already satisfied: pickleshare in /usr/local/lib/python3.10/dist-packages (from ipython->descript-audiotools>=0.7.2->descript-audio-codec->parler_tts==0.2) (0.7.5)\n",
            "Requirement already satisfied: traitlets>=4.2 in /usr/local/lib/python3.10/dist-packages (from ipython->descript-audiotools>=0.7.2->descript-audio-codec->parler_tts==0.2) (5.7.1)\n",
            "Requirement already satisfied: prompt-toolkit!=3.0.0,!=3.0.1,<3.1.0,>=2.0.0 in /usr/local/lib/python3.10/dist-packages (from ipython->descript-audiotools>=0.7.2->descript-audio-codec->parler_tts==0.2) (3.0.47)\n",
            "Requirement already satisfied: pygments in /usr/local/lib/python3.10/dist-packages (from ipython->descript-audiotools>=0.7.2->descript-audio-codec->parler_tts==0.2) (2.16.1)\n",
            "Requirement already satisfied: backcall in /usr/local/lib/python3.10/dist-packages (from ipython->descript-audiotools>=0.7.2->descript-audio-codec->parler_tts==0.2) (0.2.0)\n",
            "Requirement already satisfied: matplotlib-inline in /usr/local/lib/python3.10/dist-packages (from ipython->descript-audiotools>=0.7.2->descript-audio-codec->parler_tts==0.2) (0.1.7)\n",
            "Requirement already satisfied: pexpect>4.3; sys_platform != \"win32\" in /usr/local/lib/python3.10/dist-packages (from ipython->descript-audiotools>=0.7.2->descript-audio-codec->parler_tts==0.2) (4.9.0)\n",
            "Requirement already satisfied: markdown-it-py>=2.2.0 in /usr/local/lib/python3.10/dist-packages (from rich->descript-audiotools>=0.7.2->descript-audio-codec->parler_tts==0.2) (3.0.0)\n",
            "Requirement already satisfied: contourpy>=1.0.1 in /usr/local/lib/python3.10/dist-packages (from matplotlib->descript-audiotools>=0.7.2->descript-audio-codec->parler_tts==0.2) (1.2.1)\n",
            "Requirement already satisfied: cycler>=0.10 in /usr/local/lib/python3.10/dist-packages (from matplotlib->descript-audiotools>=0.7.2->descript-audio-codec->parler_tts==0.2) (0.12.1)\n",
            "Requirement already satisfied: fonttools>=4.22.0 in /usr/local/lib/python3.10/dist-packages (from matplotlib->descript-audiotools>=0.7.2->descript-audio-codec->parler_tts==0.2) (4.53.1)\n",
            "Requirement already satisfied: kiwisolver>=1.0.1 in /usr/local/lib/python3.10/dist-packages (from matplotlib->descript-audiotools>=0.7.2->descript-audio-codec->parler_tts==0.2) (1.4.5)\n",
            "Requirement already satisfied: pillow>=6.2.0 in /usr/local/lib/python3.10/dist-packages (from matplotlib->descript-audiotools>=0.7.2->descript-audio-codec->parler_tts==0.2) (9.4.0)\n",
            "Requirement already satisfied: pyparsing>=2.3.1 in /usr/local/lib/python3.10/dist-packages (from matplotlib->descript-audiotools>=0.7.2->descript-audio-codec->parler_tts==0.2) (3.1.2)\n",
            "Requirement already satisfied: python-dateutil>=2.7 in /usr/local/lib/python3.10/dist-packages (from matplotlib->descript-audiotools>=0.7.2->descript-audio-codec->parler_tts==0.2) (2.8.2)\n",
            "Requirement already satisfied: audioread>=2.1.9 in /usr/local/lib/python3.10/dist-packages (from librosa->descript-audiotools>=0.7.2->descript-audio-codec->parler_tts==0.2) (3.0.1)\n",
            "Requirement already satisfied: scikit-learn>=0.20.0 in /usr/local/lib/python3.10/dist-packages (from librosa->descript-audiotools>=0.7.2->descript-audio-codec->parler_tts==0.2) (1.3.2)\n",
            "Requirement already satisfied: joblib>=0.14 in /usr/local/lib/python3.10/dist-packages (from librosa->descript-audiotools>=0.7.2->descript-audio-codec->parler_tts==0.2) (1.4.2)\n",
            "Requirement already satisfied: numba>=0.51.0 in /usr/local/lib/python3.10/dist-packages (from librosa->descript-audiotools>=0.7.2->descript-audio-codec->parler_tts==0.2) (0.60.0)\n",
            "Requirement already satisfied: pooch>=1.1 in /usr/local/lib/python3.10/dist-packages (from librosa->descript-audiotools>=0.7.2->descript-audio-codec->parler_tts==0.2) (1.8.2)\n",
            "Requirement already satisfied: soxr>=0.3.2 in /usr/local/lib/python3.10/dist-packages (from librosa->descript-audiotools>=0.7.2->descript-audio-codec->parler_tts==0.2) (0.4.0)\n",
            "Requirement already satisfied: lazy-loader>=0.1 in /usr/local/lib/python3.10/dist-packages (from librosa->descript-audiotools>=0.7.2->descript-audio-codec->parler_tts==0.2) (0.4)\n",
            "Requirement already satisfied: msgpack>=1.0 in /usr/local/lib/python3.10/dist-packages (from librosa->descript-audiotools>=0.7.2->descript-audio-codec->parler_tts==0.2) (1.0.8)\n",
            "Requirement already satisfied: six<2.0,>=1.12 in /usr/local/lib/python3.10/dist-packages (from flatten-dict->descript-audiotools>=0.7.2->descript-audio-codec->parler_tts==0.2) (1.16.0)\n",
            "Requirement already satisfied: fire in /usr/local/lib/python3.10/dist-packages (from randomname->descript-audiotools>=0.7.2->descript-audio-codec->parler_tts==0.2) (0.6.0)\n",
            "Requirement already satisfied: absl-py>=0.4 in /usr/local/lib/python3.10/dist-packages (from tensorboard->descript-audiotools>=0.7.2->descript-audio-codec->parler_tts==0.2) (1.4.0)\n",
            "Requirement already satisfied: grpcio>=1.48.2 in /usr/local/lib/python3.10/dist-packages (from tensorboard->descript-audiotools>=0.7.2->descript-audio-codec->parler_tts==0.2) (1.64.1)\n",
            "Requirement already satisfied: markdown>=2.6.8 in /usr/local/lib/python3.10/dist-packages (from tensorboard->descript-audiotools>=0.7.2->descript-audio-codec->parler_tts==0.2) (3.6)\n",
            "Requirement already satisfied: tensorboard-data-server<0.8.0,>=0.7.0 in /usr/local/lib/python3.10/dist-packages (from tensorboard->descript-audiotools>=0.7.2->descript-audio-codec->parler_tts==0.2) (0.7.2)\n",
            "Requirement already satisfied: werkzeug>=1.0.1 in /usr/local/lib/python3.10/dist-packages (from tensorboard->descript-audiotools>=0.7.2->descript-audio-codec->parler_tts==0.2) (3.0.3)\n",
            "Requirement already satisfied: pycparser in /usr/local/lib/python3.10/dist-packages (from cffi>=1.0->soundfile->descript-audiotools>=0.7.2->descript-audio-codec->parler_tts==0.2) (2.22)\n",
            "Requirement already satisfied: parso<0.9.0,>=0.8.3 in /usr/local/lib/python3.10/dist-packages (from jedi>=0.16->ipython->descript-audiotools>=0.7.2->descript-audio-codec->parler_tts==0.2) (0.8.4)\n",
            "Requirement already satisfied: wcwidth in /usr/local/lib/python3.10/dist-packages (from prompt-toolkit!=3.0.0,!=3.0.1,<3.1.0,>=2.0.0->ipython->descript-audiotools>=0.7.2->descript-audio-codec->parler_tts==0.2) (0.2.13)\n",
            "Requirement already satisfied: ptyprocess>=0.5 in /usr/local/lib/python3.10/dist-packages (from pexpect>4.3; sys_platform != \"win32\"->ipython->descript-audiotools>=0.7.2->descript-audio-codec->parler_tts==0.2) (0.7.0)\n",
            "Requirement already satisfied: mdurl~=0.1 in /usr/local/lib/python3.10/dist-packages (from markdown-it-py>=2.2.0->rich->descript-audiotools>=0.7.2->descript-audio-codec->parler_tts==0.2) (0.1.2)\n",
            "Requirement already satisfied: threadpoolctl>=2.0.0 in /usr/local/lib/python3.10/dist-packages (from scikit-learn>=0.20.0->librosa->descript-audiotools>=0.7.2->descript-audio-codec->parler_tts==0.2) (3.5.0)\n",
            "Requirement already satisfied: llvmlite<0.44,>=0.43.0dev0 in /usr/local/lib/python3.10/dist-packages (from numba>=0.51.0->librosa->descript-audiotools>=0.7.2->descript-audio-codec->parler_tts==0.2) (0.43.0)\n",
            "Requirement already satisfied: platformdirs>=2.5.0 in /usr/local/lib/python3.10/dist-packages (from pooch>=1.1->librosa->descript-audiotools>=0.7.2->descript-audio-codec->parler_tts==0.2) (4.2.2)\n",
            "Requirement already satisfied: termcolor in /usr/local/lib/python3.10/dist-packages (from fire->randomname->descript-audiotools>=0.7.2->descript-audio-codec->parler_tts==0.2) (2.4.0)\n",
            "Building wheels for collected packages: parler_tts\n",
            "  Building wheel for parler_tts (pyproject.toml) ... \u001b[?25l\u001b[?25hdone\n",
            "  Created wheel for parler_tts: filename=parler_tts-0.2-py3-none-any.whl size=77074 sha256=05280ed34e13e1ae82d4af7999111aace3692f33eccf2018084e099dee349001\n",
            "  Stored in directory: /tmp/pip-ephem-wheel-cache-2001o5cp/wheels/08/9a/16/7c5e21266463d789fae86d97edb74efc55318f7946736cc645\n",
            "Successfully built parler_tts\n"
          ]
        }
      ]
    },
    {
      "cell_type": "code",
      "execution_count": 7,
      "metadata": {
        "id": "sw6aFhQmqqGA"
      },
      "outputs": [],
      "source": [
        "import torch\n",
        "from parler_tts import ParlerTTSForConditionalGeneration\n",
        "from transformers import AutoTokenizer, set_seed\n",
        "\n",
        "import soundfile as sf\n",
        "\n",
        "#ignore warnings\n",
        "import warnings\n",
        "warnings.filterwarnings(\"ignore\")\n",
        "\n",
        "\n",
        "device = \"cuda:0\" if torch.cuda.is_available() else \"cpu\"\n",
        "\n",
        "model = ParlerTTSForConditionalGeneration.from_pretrained(\"parler-tts/parler-tts-mini-expresso\").to(device)\n",
        "tokenizer = AutoTokenizer.from_pretrained(\"parler-tts/parler-tts-mini-expresso\")\n"
      ]
    },
    {
      "cell_type": "code",
      "source": [
        "prompt = \"His eyes widened as he noticed a strange, glowing outline on the far wall. He approached cautiously, heart pounding in his chest, unable to believe what he was seeing.\"\n",
        "#can choose Thomas and Jerry as male speakers or Talia and Elisabeth as female speakers\n",
        "# description = \"Thomas speaks moderately slowly in a disgusted tone with emphasis and high quality audio.\"\n",
        "description = \"Thomas speaks the paragraph moderately slowly in sadness tone with emphasis and high quality audio.\"\n",
        "# description = \"Talia speaks moderately quickly in sadness tone with emphasis and high quality audio.\"\n",
        "\n",
        "input_ids = tokenizer(description, return_tensors=\"pt\").input_ids.to(device)\n",
        "prompt_input_ids = tokenizer(prompt, return_tensors=\"pt\").input_ids.to(device)\n",
        "\n",
        "\n",
        "\n",
        "generation = model.generate(input_ids=input_ids, prompt_input_ids=prompt_input_ids)\n",
        "audio_arr = generation.cpu().numpy().squeeze()\n",
        "sf.write(\"male_output.wav\", audio_arr, model.config.sampling_rate)"
      ],
      "metadata": {
        "id": "WdBxTZXpsRCD"
      },
      "execution_count": 8,
      "outputs": []
    },
    {
      "cell_type": "code",
      "source": [
        "prompt = \"His eyes widened as he noticed a strange, glowing outline on the far wall. He approached cautiously, heart pounding in his chest, unable to believe what he was seeing.\"\n",
        "#can choose Thomas and Jerry as male speakers or Talia and Elisabeth as female speakers\n",
        "# description = \"Thomas speaks moderately slowly in a disgusted tone with emphasis and high quality audio.\"\n",
        "description = \"Thomas speaks the paragraph moderately slowly in sadness tone with emphasis and high quality audio.\"\n",
        "description = \"Talia speaks moderately quickly in sadness tone with emphasis and high quality audio.\"\n",
        "\n",
        "input_ids = tokenizer(description, return_tensors=\"pt\").input_ids.to(device)\n",
        "prompt_input_ids = tokenizer(prompt, return_tensors=\"pt\").input_ids.to(device)\n",
        "\n",
        "\n",
        "\n",
        "generation = model.generate(input_ids=input_ids, prompt_input_ids=prompt_input_ids)\n",
        "audio_arr = generation.cpu().numpy().squeeze()\n",
        "sf.write(\"female_output.wav\", audio_arr, model.config.sampling_rate)"
      ],
      "metadata": {
        "id": "Aap1TZVJOJXW"
      },
      "execution_count": 9,
      "outputs": []
    },
    {
      "cell_type": "code",
      "source": [
        " !pip install gradio_client"
      ],
      "metadata": {
        "id": "hZns4mKB81RE",
        "colab": {
          "base_uri": "https://localhost:8080/"
        },
        "outputId": "f58cb087-f9ab-4e01-deda-db3749780722"
      },
      "execution_count": 10,
      "outputs": [
        {
          "output_type": "stream",
          "name": "stdout",
          "text": [
            "Requirement already satisfied: gradio_client in /usr/local/lib/python3.10/dist-packages (1.3.0)\n",
            "Requirement already satisfied: fsspec in /usr/local/lib/python3.10/dist-packages (from gradio_client) (2024.6.1)\n",
            "Requirement already satisfied: httpx>=0.24.1 in /usr/local/lib/python3.10/dist-packages (from gradio_client) (0.27.0)\n",
            "Requirement already satisfied: huggingface-hub>=0.19.3 in /usr/local/lib/python3.10/dist-packages (from gradio_client) (0.23.5)\n",
            "Requirement already satisfied: packaging in /usr/local/lib/python3.10/dist-packages (from gradio_client) (24.1)\n",
            "Requirement already satisfied: typing-extensions~=4.0 in /usr/local/lib/python3.10/dist-packages (from gradio_client) (4.12.2)\n",
            "Requirement already satisfied: websockets<13.0,>=10.0 in /usr/local/lib/python3.10/dist-packages (from gradio_client) (12.0)\n",
            "Requirement already satisfied: anyio in /usr/local/lib/python3.10/dist-packages (from httpx>=0.24.1->gradio_client) (3.7.1)\n",
            "Requirement already satisfied: certifi in /usr/local/lib/python3.10/dist-packages (from httpx>=0.24.1->gradio_client) (2024.7.4)\n",
            "Requirement already satisfied: httpcore==1.* in /usr/local/lib/python3.10/dist-packages (from httpx>=0.24.1->gradio_client) (1.0.5)\n",
            "Requirement already satisfied: idna in /usr/local/lib/python3.10/dist-packages (from httpx>=0.24.1->gradio_client) (3.7)\n",
            "Requirement already satisfied: sniffio in /usr/local/lib/python3.10/dist-packages (from httpx>=0.24.1->gradio_client) (1.3.1)\n",
            "Requirement already satisfied: h11<0.15,>=0.13 in /usr/local/lib/python3.10/dist-packages (from httpcore==1.*->httpx>=0.24.1->gradio_client) (0.14.0)\n",
            "Requirement already satisfied: filelock in /usr/local/lib/python3.10/dist-packages (from huggingface-hub>=0.19.3->gradio_client) (3.15.4)\n",
            "Requirement already satisfied: pyyaml>=5.1 in /usr/local/lib/python3.10/dist-packages (from huggingface-hub>=0.19.3->gradio_client) (6.0.1)\n",
            "Requirement already satisfied: requests in /usr/local/lib/python3.10/dist-packages (from huggingface-hub>=0.19.3->gradio_client) (2.32.3)\n",
            "Requirement already satisfied: tqdm>=4.42.1 in /usr/local/lib/python3.10/dist-packages (from huggingface-hub>=0.19.3->gradio_client) (4.66.5)\n",
            "Requirement already satisfied: exceptiongroup in /usr/local/lib/python3.10/dist-packages (from anyio->httpx>=0.24.1->gradio_client) (1.2.2)\n",
            "Requirement already satisfied: charset-normalizer<4,>=2 in /usr/local/lib/python3.10/dist-packages (from requests->huggingface-hub>=0.19.3->gradio_client) (3.3.2)\n",
            "Requirement already satisfied: urllib3<3,>=1.21.1 in /usr/local/lib/python3.10/dist-packages (from requests->huggingface-hub>=0.19.3->gradio_client) (2.0.7)\n"
          ]
        }
      ]
    },
    {
      "cell_type": "code",
      "source": [
        "from gradio_client import Client, file\n",
        "\n",
        "import warnings\n",
        "warnings.filterwarnings(\"ignore\")\n",
        "\n",
        "client = Client(\"H-Liu1997/EMAGE\")\n",
        "#get the output video of the file on the current directory\n",
        "\n",
        "result = client.predict(\n",
        "\t\taudio_path=file('male_output.wav'),\n",
        "\t\t#audio_path=file('../Text to Speech/male_output.wav'),\n",
        "\t\tapi_name=\"/predict\"\n",
        ")\n",
        "print(result)\n",
        "#make a copy of result['value]['video'] to the current directory\n",
        "import shutil\n",
        "shutil.copy(result[0]['value']['video'], 'male_output.mp4')\n",
        "\n",
        "\n"
      ],
      "metadata": {
        "id": "IN6bl_LuxEHb",
        "colab": {
          "base_uri": "https://localhost:8080/",
          "height": 92
        },
        "outputId": "f6eec422-3bf3-4429-8e67-870e41f30dba"
      },
      "execution_count": 11,
      "outputs": [
        {
          "output_type": "stream",
          "name": "stdout",
          "text": [
            "Loaded as API: https://h-liu1997-emage.hf.space ✔\n",
            "({'visible': True, 'value': {'video': '/tmp/gradio/95e761cca0a432408c6e6db1c8fb67c2f67473aa744ee5a52d4f8088c1d17c4f/res_2_scott_0_3_3.mp4', 'subtitles': None}, '__type__': 'update'}, {'visible': True, 'value': '/tmp/gradio/51058614f15df1a99888102d44bb320ecc7430a8f4e4a73e5c132cec1b953364/res_2_scott_0_3_3.npz', '__type__': 'update'})\n"
          ]
        },
        {
          "output_type": "execute_result",
          "data": {
            "text/plain": [
              "'male_output.mp4'"
            ],
            "application/vnd.google.colaboratory.intrinsic+json": {
              "type": "string"
            }
          },
          "metadata": {},
          "execution_count": 11
        }
      ]
    },
    {
      "cell_type": "code",
      "source": [
        "from gradio_client import Client, file\n",
        "\n",
        "import warnings\n",
        "warnings.filterwarnings(\"ignore\")\n",
        "\n",
        "client = Client(\"H-Liu1997/EMAGE\")\n",
        "#get the output video of the file on the current directory\n",
        "\n",
        "result = client.predict(\n",
        "\t\taudio_path=file('female_output.wav'),\n",
        "\t\t#audio_path=file('../Text to Speech/male_output.wav'),\n",
        "\t\tapi_name=\"/predict\"\n",
        ")\n",
        "print(result)\n",
        "#make a copy of result['value]['video'] to the current directory\n",
        "import shutil\n",
        "shutil.copy(result[0]['value']['video'], 'female_output.mp4')\n",
        "\n",
        "\n"
      ],
      "metadata": {
        "id": "ptN7T-5v8CVU",
        "colab": {
          "base_uri": "https://localhost:8080/",
          "height": 92
        },
        "outputId": "d2e9b143-10d0-40b8-fac5-ad59a8fcd1b1"
      },
      "execution_count": 12,
      "outputs": [
        {
          "output_type": "stream",
          "name": "stdout",
          "text": [
            "Loaded as API: https://h-liu1997-emage.hf.space ✔\n",
            "({'visible': True, 'value': {'video': '/tmp/gradio/6213042ed8bf8dac219007d485a7537a5fcb081fa93749df3cae52afd4fcb372/res_2_scott_0_3_3.mp4', 'subtitles': None}, '__type__': 'update'}, {'visible': True, 'value': '/tmp/gradio/aab089b062c4769790989bd09a567edbf2b7137865197981d72cf0aa424ae6fa/res_2_scott_0_3_3.npz', '__type__': 'update'})\n"
          ]
        },
        {
          "output_type": "execute_result",
          "data": {
            "text/plain": [
              "'female_output.mp4'"
            ],
            "application/vnd.google.colaboratory.intrinsic+json": {
              "type": "string"
            }
          },
          "metadata": {},
          "execution_count": 12
        }
      ]
    },
    {
      "cell_type": "code",
      "source": [],
      "metadata": {
        "id": "7LZyaPOAQqwd"
      },
      "execution_count": null,
      "outputs": []
    }
  ]
}